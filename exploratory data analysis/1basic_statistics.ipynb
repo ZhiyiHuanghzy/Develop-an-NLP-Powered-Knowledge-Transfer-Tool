{
 "cells": [
  {
   "cell_type": "code",
   "execution_count": 9,
   "metadata": {},
   "outputs": [],
   "source": [
    "import numpy as np\n",
    "import pandas as pd\n",
    "import seaborn as sns\n",
    "import matplotlib.pyplot as plt\n",
    "\n",
    "pd.set_option('display.max_columns', None)\n",
    "pd.set_option('display.max_rows', None)\n",
    "pd.set_option('max_colwidth',100)\n",
    "\n",
    "\n",
    "np.set_printoptions(threshold=np.inf)\n",
    "np.set_printoptions(linewidth=100)"
   ]
  },
  {
   "cell_type": "code",
   "execution_count": 8,
   "metadata": {},
   "outputs": [
    {
     "name": "stdout",
     "output_type": "stream",
     "text": [
      "(3656, 7)\n"
     ]
    },
    {
     "data": {
      "text/html": [
       "<div>\n",
       "<style scoped>\n",
       "    .dataframe tbody tr th:only-of-type {\n",
       "        vertical-align: middle;\n",
       "    }\n",
       "\n",
       "    .dataframe tbody tr th {\n",
       "        vertical-align: top;\n",
       "    }\n",
       "\n",
       "    .dataframe thead th {\n",
       "        text-align: right;\n",
       "    }\n",
       "</style>\n",
       "<table border=\"1\" class=\"dataframe\">\n",
       "  <thead>\n",
       "    <tr style=\"text-align: right;\">\n",
       "      <th></th>\n",
       "      <th>filename</th>\n",
       "      <th>citations</th>\n",
       "      <th>circumstance</th>\n",
       "      <th>year</th>\n",
       "      <th>RTNs</th>\n",
       "      <th>location</th>\n",
       "      <th>source</th>\n",
       "    </tr>\n",
       "  </thead>\n",
       "  <tbody>\n",
       "    <tr>\n",
       "      <td>0</td>\n",
       "      <td>2-0012943 - CHARLTON - NON 01-31-2003</td>\n",
       "      <td>['40.0420', '40.0333', '40.0314']</td>\n",
       "      <td>on september the department was notified of a release of oil occurred at the abovereferenced sit...</td>\n",
       "      <td>2003</td>\n",
       "      <td>2-0012943</td>\n",
       "      <td>CHARLTON</td>\n",
       "      <td>NONs</td>\n",
       "    </tr>\n",
       "    <tr>\n",
       "      <td>1</td>\n",
       "      <td>2-0012943 - CHARLTON - NON 01-31-2003</td>\n",
       "      <td>['40.0314', '40.0501', '40.0315', '40.0443', '40.0404']</td>\n",
       "      <td>on september the department was notified of a release of oil occurred at the abovereferenced sit...</td>\n",
       "      <td>2003</td>\n",
       "      <td>2-0012943</td>\n",
       "      <td>CHARLTON</td>\n",
       "      <td>NONs</td>\n",
       "    </tr>\n",
       "    <tr>\n",
       "      <td>2</td>\n",
       "      <td>2-0000642 - AYER - NON A 09-25-2003</td>\n",
       "      <td>['40.0740', '40.0550']</td>\n",
       "      <td>the department issued you a tier ic permit which became effective on august and expired on augus...</td>\n",
       "      <td>2003</td>\n",
       "      <td>2-0000642</td>\n",
       "      <td>AYER</td>\n",
       "      <td>NONs</td>\n",
       "    </tr>\n",
       "    <tr>\n",
       "      <td>3</td>\n",
       "      <td>2-0013076 - BELLINGHAM - NON  12-11-2001</td>\n",
       "      <td>['40.0420', '40.0333']</td>\n",
       "      <td>on january the department was notified of a release of fuel oil from an aboveground storage tank...</td>\n",
       "      <td>2001</td>\n",
       "      <td>2-0013076</td>\n",
       "      <td>BELLINGHAM</td>\n",
       "      <td>NONs</td>\n",
       "    </tr>\n",
       "    <tr>\n",
       "      <td>4</td>\n",
       "      <td>2-0013076 - BELLINGHAM - NON  12-11-2001</td>\n",
       "      <td>['40.0425']</td>\n",
       "      <td>on january the department was notified of a release of fuel oil from an aboveground storage tank...</td>\n",
       "      <td>2001</td>\n",
       "      <td>2-0013076</td>\n",
       "      <td>BELLINGHAM</td>\n",
       "      <td>NONs</td>\n",
       "    </tr>\n",
       "  </tbody>\n",
       "</table>\n",
       "</div>"
      ],
      "text/plain": [
       "                                   filename  \\\n",
       "0     2-0012943 - CHARLTON - NON 01-31-2003   \n",
       "1     2-0012943 - CHARLTON - NON 01-31-2003   \n",
       "2       2-0000642 - AYER - NON A 09-25-2003   \n",
       "3  2-0013076 - BELLINGHAM - NON  12-11-2001   \n",
       "4  2-0013076 - BELLINGHAM - NON  12-11-2001   \n",
       "\n",
       "                                                 citations  \\\n",
       "0                        ['40.0420', '40.0333', '40.0314']   \n",
       "1  ['40.0314', '40.0501', '40.0315', '40.0443', '40.0404']   \n",
       "2                                   ['40.0740', '40.0550']   \n",
       "3                                   ['40.0420', '40.0333']   \n",
       "4                                              ['40.0425']   \n",
       "\n",
       "                                                                                          circumstance  \\\n",
       "0  on september the department was notified of a release of oil occurred at the abovereferenced sit...   \n",
       "1  on september the department was notified of a release of oil occurred at the abovereferenced sit...   \n",
       "2  the department issued you a tier ic permit which became effective on august and expired on augus...   \n",
       "3  on january the department was notified of a release of fuel oil from an aboveground storage tank...   \n",
       "4  on january the department was notified of a release of fuel oil from an aboveground storage tank...   \n",
       "\n",
       "   year       RTNs    location source  \n",
       "0  2003  2-0012943    CHARLTON   NONs  \n",
       "1  2003  2-0012943    CHARLTON   NONs  \n",
       "2  2003  2-0000642        AYER   NONs  \n",
       "3  2001  2-0013076  BELLINGHAM   NONs  \n",
       "4  2001  2-0013076  BELLINGHAM   NONs  "
      ]
     },
     "execution_count": 8,
     "metadata": {},
     "output_type": "execute_result"
    }
   ],
   "source": [
    "df1 = pd.read_csv('data/non.csv')\n",
    "df1['source'] = 'NONs'\n",
    "df2 = pd.read_csv('data/acop.csv')\n",
    "df2['source'] = 'ACOPs'\n",
    "df3 = pd.read_csv('data/uao.csv')\n",
    "df3['source'] = 'UAOs'\n",
    "\n",
    "df = pd.concat([df1, df2, df3])\n",
    "print(df.shape)\n",
    "df.head()"
   ]
  },
  {
   "cell_type": "markdown",
   "metadata": {},
   "source": [
    "## 1. filecount by source"
   ]
  },
  {
   "cell_type": "code",
   "execution_count": 32,
   "metadata": {},
   "outputs": [
    {
     "data": {
      "image/png": "[encoded data removed]",
      "text/plain": [
       "<Figure size 720x432 with 1 Axes>"
      ]
     },
     "metadata": {
      "needs_background": "light"
     },
     "output_type": "display_data"
    }
   ],
   "source": [
    "plt.figure(figsize=(10, 6))\n",
    "\n",
    "ax = sns.countplot(df['source'])\n",
    "for p, label in zip(ax.patches, df[\"source\"].value_counts()):\n",
    "    ax.annotate(label, (p.get_x()+0.35, p.get_height()+40))\n",
    "    \n",
    "plt.show()"
   ]
  },
  {
   "cell_type": "markdown",
   "metadata": {},
   "source": [
    "## 2. year counts"
   ]
  },
  {
   "cell_type": "code",
   "execution_count": 72,
   "metadata": {},
   "outputs": [
    {
     "data": {
      "image/png": "[encoded data removed]",
      "text/plain": [
       "<Figure size 1080x576 with 1 Axes>"
      ]
     },
     "metadata": {},
     "output_type": "display_data"
    }
   ],
   "source": [
    "sns.set(style=\"darkgrid\")\n",
    "\n",
    "plt.figure(figsize = (15, 8))\n",
    "ax = sns.countplot(df['year'], color='b')\n",
    "\n",
    "cnt = pd.DataFrame({\n",
    "    'year':df[\"year\"].value_counts().index,\n",
    "    'count':df[\"year\"].value_counts().values\n",
    "}\n",
    ").sort_values('year')['count']\n",
    "for p, label in zip(ax.patches, cnt):\n",
    "    ax.annotate(label, (p.get_x()+0.19, p.get_height()+1.3))\n",
    "    \n",
    "plt.show()"
   ]
  },
  {
   "cell_type": "code",
   "execution_count": 59,
   "metadata": {},
   "outputs": [
    {
     "data": {
      "text/plain": [
       "(137, 7)"
      ]
     },
     "execution_count": 59,
     "metadata": {},
     "output_type": "execute_result"
    }
   ],
   "source": [
    "df[df.year>=2018].shape"
   ]
  },
  {
   "cell_type": "code",
   "execution_count": 55,
   "metadata": {},
   "outputs": [
    {
     "data": {
      "text/plain": [
       "(438, 7)"
      ]
     },
     "execution_count": 55,
     "metadata": {},
     "output_type": "execute_result"
    }
   ],
   "source": [
    "df[df.year>=2015].shape"
   ]
  },
  {
   "cell_type": "code",
   "execution_count": 56,
   "metadata": {},
   "outputs": [
    {
     "data": {
      "text/plain": [
       "(1303, 7)"
      ]
     },
     "execution_count": 56,
     "metadata": {},
     "output_type": "execute_result"
    }
   ],
   "source": [
    "df[df.year>=2009].shape"
   ]
  },
  {
   "cell_type": "code",
   "execution_count": 57,
   "metadata": {},
   "outputs": [
    {
     "data": {
      "text/plain": [
       "(3656, 7)"
      ]
     },
     "execution_count": 57,
     "metadata": {},
     "output_type": "execute_result"
    }
   ],
   "source": [
    "df.shape"
   ]
  },
  {
   "cell_type": "markdown",
   "metadata": {},
   "source": [
    "## 3. num of unique citations (global)"
   ]
  },
  {
   "cell_type": "code",
   "execution_count": 60,
   "metadata": {},
   "outputs": [
    {
     "name": "stdout",
     "output_type": "stream",
     "text": [
      "['40.1600', '40.0405', '40,0311', '40.0311', '40.0412']\n",
      "['40,0412', '40.0420', '40,0411', '40.0560', '40.0874', '40.0810', '40.0313', '40.0864']\n",
      "['40,0412', '40.0420', '40,0411', '40.0560', '40.0874', '40.0810', '40.0313', '40.0864']\n",
      "['40.0517', '40.1600', '40.0332', '40,1600', '40.0034', '40.0311', '40.0035', '40.0331']\n",
      "['40.0030', '40.1600', '40.0420', '40.0031', '40,1600', '40.0311', '40.0400']\n",
      "['40,0000', '40.1600', '40.0311']\n",
      "['40.1401', '40.0420', '40.0893', '40,0045', '40.0872', '40.0833', '40.0045', '40.0191', '40.0874', '40.0411', '40.0853', '40.0022', '40.1403', '40.0428', '40.0835']\n",
      "['40.0405', '40.0371', '40,0313']\n",
      "['40,0006', '40,0022', '40.0006', '40.0412', '40.0414', '40.0835', '40.0313', '40.0046']\n",
      "['40,0006', '40,0022', '40.0006', '40.0412', '40.0414', '40.0835', '40.0313', '40.0046']\n",
      "['40,0313', '40.0313']\n",
      "['40.0870', '40,0412', '40,0411', '40.0420', '40.0167', '40.0333', '40,0334', '40,0314', '40,0333', '40,1000', '40,0414', '40,0420', '40.0411', '40.0311', '40.0314', '40,0400', '40.0414', '40.0331']\n",
      "['40.0870', '40,0412', '40,0411', '40.0420', '40.0167', '40.0333', '40,0334', '40,0314', '40,0333', '40,1000', '40,0414', '40,0420', '40.0411', '40.0311', '40.0314', '40,0400', '40.0414', '40.0331']\n",
      "['40.0870', '40,0412', '40,0411', '40.0420', '40.0167', '40.0333', '40,0334', '40,0314', '40,0333', '40,1000', '40,0414', '40,0420', '40.0411', '40.0311', '40.0314', '40,0400', '40.0414', '40.0331']\n",
      "['40.0870', '40,0412', '40,0411', '40.0420', '40.0167', '40.0333', '40,0334', '40,0314', '40,0333', '40,1000', '40,0414', '40,0420', '40.0411', '40.0311', '40.0314', '40,0400', '40.0414', '40.0331']\n",
      "['40.0870', '40,0412', '40,0411', '40.0420', '40.0167', '40.0333', '40,0334', '40,0314', '40,0333', '40,1000', '40,0414', '40,0420', '40.0411', '40.0311', '40.0314', '40,0400', '40.0414', '40.0331']\n",
      "['40.0870', '40,0412', '40,0411', '40.0420', '40.0167', '40.0333', '40,0334', '40,0314', '40,0333', '40,1000', '40,0414', '40,0420', '40.0411', '40.0311', '40.0314', '40,0400', '40.0414', '40.0331']\n",
      "['40.0870', '40,0412', '40,0411', '40.0420', '40.0167', '40.0333', '40,0334', '40,0314', '40,0333', '40,1000', '40,0414', '40,0420', '40.0411', '40.0311', '40.0314', '40,0400', '40.0414', '40.0331']\n",
      "['40.0870', '40,0412', '40,0411', '40.0420', '40.0167', '40.0333', '40,0334', '40,0314', '40,0333', '40,1000', '40,0414', '40,0420', '40.0411', '40.0311', '40.0314', '40,0400', '40.0414', '40.0331']\n",
      "['40.0870', '40,0412', '40,0411', '40.0420', '40.0167', '40.0333', '40,0334', '40,0314', '40,0333', '40,1000', '40,0414', '40,0420', '40.0411', '40.0311', '40.0314', '40,0400', '40.0414', '40.0331']\n",
      "['40.0006', '40.0874', '40.0046', '40,0046', '40.0702']\n",
      "['40,0412', '40,0852', '40.0412', '40.0313', '40.0852']\n",
      "['40,0412', '40,0852', '40.0412', '40.0313', '40.0852']\n",
      "['40.0420', '40.1600', '40.0371', '40.0333', '40.0405', '40.1000', '40.0167', '40,0314', '40,0000', '40,0420', '40.0165', '40.0311', '40.0300', '40.0412']\n",
      "['40.0420', '40.1600', '40.0371', '40.0333', '40.0405', '40.1000', '40.0167', '40,0314', '40,0000', '40,0420', '40.0165', '40.0311', '40.0300', '40.0412']\n",
      "['40.0420', '40.1600', '40.0371', '40.0333', '40.0405', '40.1000', '40.0167', '40,0314', '40,0000', '40,0420', '40.0165', '40.0311', '40.0300', '40.0412']\n",
      "['40.0420', '40.1600', '40.0332', '40.0191', '40,0191', '40.0311', '40.0317', '40.0641', '40.0000', '40.0400', '40,0641', '40.0331']\n",
      "['40.0420', '40.1600', '40.0332', '40.0191', '40,0191', '40.0311', '40.0317', '40.0641', '40.0000', '40.0400', '40,0641', '40.0331']\n",
      "['40,0000', '40.0022']\n",
      "['40,0893', '40.0893']\n",
      "['40.0420', '40.0167', '40.0371', '40.0333', '40.1000', '40,1600', '40,0420', '40.0347', '40.0311', '40.0314']\n",
      "['40.0420', '40.0167', '40.0371', '40.0333', '40.1000', '40,1600', '40,0420', '40.0347', '40.0311', '40.0314']\n",
      "['40.1600', '40,0315', '40.0560', '40.0360', '40.0315', '40.0369']\n",
      "['40.0318', '40,0315', '40.0360', '40.0160', '40.0317', '40.0315', '40.0369', '40.0331']\n",
      "['40.1000', '40.0700', '40,0550', '40.0550']\n",
      "['40.0560', '40,0530', '40.0877', '40.0942', '40.0871', '40.0874', '40.0412', '40.0315', '40.0414', '40.0313', '40.0702']\n",
      "['40,0530', '40.1000', '40.0530', '40.0700', '40,0550', '40.0550']\n",
      "['40,0530', '40.1000', '40.0530', '40.0700', '40,0550', '40.0550']\n",
      "['40.0900', '40.1000', '40.1004', '40,0022', '40.0191', '40,0000', '40.0022', '40.0025', '40.0000', '40,1004']\n",
      "['40.0900', '40.1000', '40.1004', '40,0022', '40.0191', '40,0000', '40.0022', '40.0025', '40.0000', '40,1004']\n",
      "['40.0900', '40.1000', '40.1004', '40,0022', '40.0191', '40,0000', '40.0022', '40.0025', '40.0000', '40,1004']\n",
      "['40.0030', '40.1600', '40.0405', '40.0031', '40.0311', '40,0031']\n",
      "['40,1050', '40.1004', '40.0006', '40.0904', '40.1050', '40.0926', '40.0412', '40.1003', '40.0864']\n",
      "['40.0405', '40.1600', '40.0311', '40,0347']\n",
      "['40,0311', '40.1600', '40.0347', '40.0311']\n",
      "['40.0893', '40.0872', '40.0191', '40.0874', '40,0893']\n",
      "['40.0412', '40.0893', '40.0956', '40,0000', '40,0893', '40.0414', '40.0313']\n",
      "['40.0412', '40.0893', '40.0956', '40,0000', '40,0893', '40.0414', '40.0313']\n",
      "['40,0028', '40.0893', '40.0892', '40.0045', '40.0031', '40.0833', '40,0874', '40,0041', '40,0835', '40.0874', '40.0036', '40,0191', '40.1003', '40.0870', '40.0835', '40.0041']\n",
      "['40,0028', '40.0893', '40.0892', '40.0045', '40.0031', '40.0833', '40,0874', '40,0041', '40,0835', '40.0874', '40.0036', '40,0191', '40.1003', '40.0870', '40.0835', '40.0041']\n",
      "['40,0028', '40.0893', '40.0892', '40.0045', '40.0031', '40.0833', '40,0874', '40,0041', '40,0835', '40.0874', '40.0036', '40,0191', '40.1003', '40.0870', '40.0835', '40.0041']\n",
      "['40,0028', '40.0893', '40.0892', '40.0045', '40.0031', '40.0833', '40,0874', '40,0041', '40,0835', '40.0874', '40.0036', '40,0191', '40.1003', '40.0870', '40.0835', '40.0041']\n",
      "['40,0028', '40.0893', '40.0892', '40.0045', '40.0031', '40.0833', '40,0874', '40,0041', '40,0835', '40.0874', '40.0036', '40,0191', '40.1003', '40.0870', '40.0835', '40.0041']\n",
      "['40,0405', '40.1600', '40.0405', '40,0311', '40.0311']\n",
      "['40,0405', '40.1600', '40.0405', '40,0311', '40.0311']\n",
      "['40,0405', '40.0311', '40.0405']\n",
      "['40.0893', '40.0892', '40.0045', '40.0031', '40.0833', '40.0028', '40.0191', '40,0041', '40,0000', '40.0874', '40.0036', '40.1003', '40.0870', '40,0031', '40.0835', '40.0041']\n",
      "['40.0893', '40.0892', '40.0045', '40.0031', '40.0833', '40.0028', '40.0191', '40,0041', '40,0000', '40.0874', '40.0036', '40.1003', '40.0870', '40,0031', '40.0835', '40.0041']\n",
      "['40.0893', '40.0892', '40.0045', '40.0031', '40.0833', '40.0028', '40.0191', '40,0041', '40,0000', '40.0874', '40.0036', '40.1003', '40.0870', '40,0031', '40.0835', '40.0041']\n",
      "['40,0412', '40.0313', '40.0404']\n",
      "['40,0331', '40.1600', '40.0332', '40.0360', '40.0317', '40.0369', '40.0313']\n",
      "['40,0412', '40.1600', '40.0311', '40.0405']\n",
      "['40,0740', '40.0550', '40.0740', '40.0725']\n",
      "['40.0560', '40,0560']\n",
      "['40,0313', '40.0006', '40.0022', '40.0412', '40.0414', '40.0835', '40.0313', '40.0046']\n",
      "['40.0893', '40.0872', '40.0191', '40.0874', '40,0893']\n",
      "['40,0028', '40.1051', '40.0898', '40.1067', '40,1067', '40.0861', '40,0031']\n",
      "['40,0028', '40.1051', '40.0898', '40.1067', '40,1067', '40.0861', '40,0031']\n",
      "['40,0028', '40.1051', '40.0898', '40.1067', '40,1067', '40.0861', '40,0031']\n",
      "['40,0034', '40.0420', '40.0045', '40.0031', '40.0034', '40.0424', '40.0032', '40.0036', '40.0421']\n",
      "['40.0420', '40.0530', '40,0950', '40.0412', '40.0833', '40.0700', '40.0425', '40.0834', '40.0550', '40.0427', '40.0030', '40.0031', '40.0034', '40,0000', '40.1000', '40,0420', '40.0036', '40.0950', '40.0740', '40.0400']\n",
      "['40.0420', '40.0530', '40,0950', '40.0412', '40.0833', '40.0700', '40.0425', '40.0834', '40.0550', '40.0427', '40.0030', '40.0031', '40.0034', '40,0000', '40.1000', '40,0420', '40.0036', '40.0950', '40.0740', '40.0400']\n",
      "['40.0420', '40.0530', '40,0950', '40.0412', '40.0833', '40.0700', '40.0425', '40.0834', '40.0550', '40.0427', '40.0030', '40.0031', '40.0034', '40,0000', '40.1000', '40,0420', '40.0036', '40.0950', '40.0740', '40.0400']\n",
      "['40.0335', '40.1600', '40,0600', '40,0311', '40.0311', '40.0314', '40.0331']\n",
      "['40.0335', '40.1600', '40,0600', '40,0311', '40.0311', '40.0314', '40.0331']\n",
      "['40,0412', '40.0877', '40,0560', '40,0420', '40.0874', '40.0810', '40.0313', '40.0864']\n",
      "['40,0412', '40.0877', '40,0560', '40,0420', '40.0874', '40.0810', '40.0313', '40.0864']\n",
      "['40,0412', '40.0877', '40,0560', '40,0420', '40.0874', '40.0810', '40.0313', '40.0864']\n",
      "['40.0420', '40.1004', '40,0414', '40.0006', '40,0550', '40.1003', '40.0414']\n",
      "['40.0420', '40.1004', '40,0414', '40.0006', '40,0550', '40.1003', '40.0414']\n",
      "['40,0000', '40.0315']\n",
      "['40,0000', '40.0560', '40,0545', '40.0445']\n",
      "['40,0000', '40.0560', '40,0545', '40.0445']\n",
      "['40.0900', '40.1000', '40.1004', '40,0022', '40.0191', '40,0000', '40.0022', '40.0025', '40.0000', '40,1004']\n",
      "['40.0900', '40.1000', '40.1004', '40,0022', '40.0191', '40,0000', '40.0022', '40.0025', '40.0000', '40,1004']\n",
      "['40.0900', '40.1000', '40.1004', '40,0022', '40.0191', '40,0000', '40.0022', '40.0025', '40.0000', '40,1004']\n",
      "['40.0420', '40.0904', '40,0000', '40,0926', '40,0420', '40.0926', '40.0425', '40,0924', '40,0031']\n",
      "['40.0420', '40.0904', '40,0000', '40,0926', '40,0420', '40.0926', '40.0425', '40,0924', '40,0031']\n",
      "['40.0420', '40.0904', '40,0000', '40,0926', '40,0420', '40.0926', '40.0425', '40,0924', '40,0031']\n",
      "['40.0420', '40.0904', '40,0000', '40,0926', '40,0420', '40.0926', '40.0425', '40,0924', '40,0031']\n",
      "['40.0420', '40.0904', '40,0000', '40,0926', '40,0420', '40.0926', '40.0425', '40,0924', '40,0031']\n",
      "['40,0000', '40.0414']\n",
      "['40,0412', '40.1004', '40.0904', '40.0006', '40.1050', '40.0926', '40.0412', '40.1003', '40.0313', '40.0864']\n",
      "['40,0000', '40.0893']\n",
      "['40.1012', '40,1099', '40.1070']\n",
      "['40.0420', '40.0530', '40.0853', '40,0427', '40.0105']\n",
      "['40,0331', '40.1600', '40.0332', '40.0360', '40.0317', '40.0369', '40.0313']\n",
      "['40.0560', '40,0560']\n",
      "['40,0893', '40.0893']\n",
      "['40,1600', '40.1600', '40.0311', '40.0405']\n",
      "['40.0560', '40,0022', '40.0530', '40.0006', '40.1500', '40.0520', '40.0414', '40.0313', '40,0560']\n",
      "['40.0560', '40,0022', '40.0530', '40.0006', '40.1500', '40.0520', '40.0414', '40.0313', '40,0560']\n",
      "['40.0427', '40.0560', '40.0420', '40,0425', '40.0425', '40.0400']\n",
      "['40,0034', '40.0318', '40.0034', '40.0191', '40,0000', '40.0036', '40.0300', '40,0191', '40.0404']\n",
      "['40,0034', '40.0318', '40.0034', '40.0191', '40,0000', '40.0036', '40.0300', '40,0191', '40.0404']\n",
      "['40,0034', '40.0318', '40.0034', '40.0191', '40,0000', '40.0036', '40.0300', '40,0191', '40.0404']\n",
      "['40.1600', '40.0405', '40,1600', '40,0000', '40.0311']\n",
      "['40.1600', '40.0405', '40,1600', '40,0000', '40.0311']\n",
      "['40.0427', '40.0560', '40.0420', '40,0425', '40.0425', '40.0400', '40,0560']\n",
      "['40.0427', '40.0560', '40.0420', '40,0425', '40.0425', '40.0400', '40,0560']\n",
      "['40.0318', '40,0412', '40.0321', '40.0405', '40.0022', '40.0440', '40.0300', '40.0404']\n",
      "['40.0412', '40.0170', '40,0313']\n",
      "['40,0874', '40,0404', '40.0861', '40.0501', '40.0500', '40.0835']\n",
      "['40,0874', '40,0404', '40.0861', '40.0501', '40.0500', '40.0835']\n",
      "['40,0000', '40.0022']\n",
      "['40.1600', '40,0315', '40.0620', '40.0315', '40.0362']\n",
      "['40,0369', '40.1600', '40.0321', '40.0332', '40.0360', '40.0311', '40.0317', '40.0950', '40.0331']\n",
      "['40.1012', '40,1099', '40.1070']\n",
      "['40.0445', '40,0425', '40.0333', '40.0405', '40.0441', '40.0550', '40.0404']\n",
      "['40,0331', '40.1600', '40.0332', '40.0360', '40.0317', '40.0369', '40.0313']\n",
      "['40.1000', '40,0700', '40.0530', '40,0000', '40.0550']\n",
      "['40.1000', '40,0700', '40.0530', '40,0000', '40.0550']\n",
      "['40.0030', '40.1600', '40.0420', '40.0321', '40.0031', '40.0426', '40,0426', '40.0165', '40.0300', '40.0311', '40.0414', '40.0400', '40.0404']\n",
      "['40,0332', '40.0318', '40.0462', '40.0300', '40.0421', '40.0404']\n",
      "['40,0331', '40.0443', '40.0321', '40,0000', '40.0411', '40.0311', '40.0950', '40.1403', '40.0444']\n",
      "['40,0331', '40.0443', '40.0321', '40,0000', '40.0411', '40.0311', '40.0950', '40.1403', '40.0444']\n",
      "['40.0318', '40.1600', '40.0445', '40.0900', '40.1004', '40.0034', '40.0191', '40.0446', '40,1000', '40,0000', '40.0360', '40.0317', '40.0315', '40.0369', '40.0331']\n",
      "['40.0318', '40.1600', '40.0445', '40.0900', '40.1004', '40.0034', '40.0191', '40.0446', '40,1000', '40,0000', '40.0360', '40.0317', '40.0315', '40.0369', '40.0331']\n",
      "['40.0560', '40,0560']\n",
      "['40,1070', '40.1070']\n",
      "['40.1074', '40.1403', '40.0960', '40,1003']\n",
      "['40.0500', '40.0501', '40.0420', '40,0333']\n",
      "['40,1403', '40.0893', '40.0956', '40.1070', '40.1074', '40.1403', '40.0810']\n",
      "['40.1074', '40,1074']\n",
      "['40,0421', '40.1600', '40.0332', '40.0351', '40,0318', '40.0462', '40.0300', '40.0311', '40.0036', '40.0421', '40.0404']\n",
      "['40,0421', '40.1600', '40.0332', '40.0351', '40,0318', '40.0462', '40.0300', '40.0311', '40.0036', '40.0421', '40.0404']\n",
      "['40.0933', '40.0923', '40.1099', '40.0191', '40.0904', '40.1070', '40,0924', '40.1074', '40.1012', '40.0924']\n",
      "['40.0420', '40.0167', '40.0560', '40.0405', '40,0404', '40.0425', '40.0404']\n",
      "['40.0318', '40,0369', '40.0360', '40.0160', '40.0317', '40.0315', '40.0369', '40.0331']\n",
      "['40.0893', '40,0006', '40.0904', '40,0893', '40.0313']\n",
      "['40.0893', '40,0006', '40.0904', '40,0893', '40.0313']\n",
      "['40.0898', '40,0897', '40,0898', '40.1050']\n",
      "['40.0898', '40,0897', '40,0898', '40.1050']\n",
      "['40,0331', '40.0030', '40.1600', '40.0332', '40.0031', '40.0351', '40.0311', '40.0317', '40.0412', '40.0312']\n",
      "['40,0332', '40.0412', '40.1600', '40.0420', '40.0167', '40.0427', '40,0336', '40.1000', '40.0351', '40,0420', '40.0311', '40.0317', '40.0300', '40.0314', '40.0336', '40.0331']\n",
      "['40,0332', '40.0412', '40.1600', '40.0420', '40.0167', '40.0427', '40,0336', '40.1000', '40.0351', '40,0420', '40.0311', '40.0317', '40.0300', '40.0314', '40.0336', '40.0331']\n",
      "['40,0332', '40.0412', '40.1600', '40.0420', '40.0167', '40.0427', '40,0336', '40.1000', '40.0351', '40,0420', '40.0311', '40.0317', '40.0300', '40.0314', '40.0336', '40.0331']\n",
      "['40.1405', '40.0034', '40.1404', '40,0550', '40.0550']\n",
      "['40,1404', '40.0420', '40.0620', '40.1160', '40.1404', '40.1500', '40.0425', '40.0501', '40.0400']\n",
      "['40.0420', '40,0425', '40,0926', '40.0904', '40,0420', '40.0924', '40.0926', '40,0031']\n",
      "['40.0420', '40,0425', '40,0926', '40.0904', '40,0420', '40.0924', '40.0926', '40,0031']\n",
      "['40.0420', '40,0425', '40,0926', '40.0904', '40,0420', '40.0924', '40.0926', '40,0031']\n",
      "['40.0420', '40,0425', '40,0926', '40.0904', '40,0420', '40.0924', '40.0926', '40,0031']\n",
      "['40.0420', '40,0105', '40.0530', '40.0853', '40.0427']\n",
      "['40.1600', '40.0321', '40.0332', '40,1600', '40.0352', '40.0351', '40.0360', '40.0347', '40.0311', '40.0317', '40.0950', '40.0369', '40.0331']\n",
      "['40.1074', '40,1074', '40.1070']\n",
      "['40.0321', '40,0950', '40.0311', '40.1403', '40.0444', '40,0443', '40.0331']\n",
      "['40.0321', '40,0950', '40.0311', '40.1403', '40.0444', '40,0443', '40.0331']\n",
      "['40,0000', '40.0412', '40.0420', '40.0425']\n",
      "['40.1600', '40,0311', '40.0405']\n",
      "['40.0420', '40,0411', '40.0560', '40.0333', '40.0892', '40.0000', '40.0411', '40.0425', '40.0300', '40.0501', '40.0404']\n"
     ]
    }
   ],
   "source": [
    "all_c = []\n",
    "for c in df['citations']:\n",
    "    for one_c in c[1:-1].split(', '):\n",
    "        try:\n",
    "            all_c.append(float(one_c[1:-1]))\n",
    "        except:\n",
    "            print(c)"
   ]
  },
  {
   "cell_type": "code",
   "execution_count": 61,
   "metadata": {},
   "outputs": [
    {
     "name": "stdout",
     "output_type": "stream",
     "text": [
      "7531\n",
      "288\n"
     ]
    }
   ],
   "source": [
    "print(len(all_c))\n",
    "print(len(set(all_c))) # unique citations"
   ]
  },
  {
   "cell_type": "markdown",
   "metadata": {},
   "source": [
    "## 4. num of unique citations (one cirumstance)"
   ]
  },
  {
   "cell_type": "code",
   "execution_count": 62,
   "metadata": {},
   "outputs": [],
   "source": [
    "f = lambda x: len(x.split(', '))\n",
    "df[\"citations_count\"] = df['citations'].apply(f)"
   ]
  },
  {
   "cell_type": "code",
   "execution_count": 68,
   "metadata": {},
   "outputs": [
    {
     "data": {
      "image/png": "[encoded data removed]",
      "text/plain": [
       "<Figure size 1080x576 with 1 Axes>"
      ]
     },
     "metadata": {},
     "output_type": "display_data"
    }
   ],
   "source": [
    "sns.set(style=\"darkgrid\")\n",
    "\n",
    "plt.figure(figsize = (15, 8))\n",
    "ax = sns.countplot(df[\"citations_count\"], palette=sns.color_palette(\"BrBG\", 7))\n",
    "for p, label in zip(ax.patches, df[\"citations_count\"].value_counts()):\n",
    "    ax.annotate(label, (p.get_x()+0.15, p.get_height()+40))\n",
    "    \n",
    "plt.show()"
   ]
  },
  {
   "cell_type": "markdown",
   "metadata": {},
   "source": [
    "## 5. file count by location "
   ]
  },
  {
   "cell_type": "code",
   "execution_count": 69,
   "metadata": {},
   "outputs": [],
   "source": [
    "df.loc[df.location=='WORCETER', 'location'] = 'WORCESTER'\n",
    "df.loc[df.location=='WORCESTSER', 'location'] = 'WORCESTER'\n",
    "df.loc[df.location=='W BOYLSTON', 'location'] = 'BOYLSTON'  \n",
    "df.loc[df.location=='WESTBORO', 'location'] = 'WESTBOROUGH'\n",
    "df.loc[df.location=='MARLBOROGH', 'location'] = 'MARLBOROUGH' \n",
    "df.loc[df.location=='NORTH UXBRIDGE', 'location'] = 'NORTHBRIDGE' "
   ]
  },
  {
   "cell_type": "code",
   "execution_count": 70,
   "metadata": {},
   "outputs": [
    {
     "name": "stdout",
     "output_type": "stream",
     "text": [
      "93\n"
     ]
    },
    {
     "data": {
      "text/plain": [
       "WORCESTER      694\n",
       "FITCHBURG      196\n",
       "LEOMINSTER     141\n",
       "AUBURN         111\n",
       "OXFORD         106\n",
       "MILFORD         95\n",
       "CHARLTON        83\n",
       "SHREWSBURY      82\n",
       "MARLBOROUGH     76\n",
       "UXBRIDGE        74\n",
       "Name: location, dtype: int64"
      ]
     },
     "execution_count": 70,
     "metadata": {},
     "output_type": "execute_result"
    }
   ],
   "source": [
    "loc_cnt = df['location'].value_counts()\n",
    "print(loc_cnt.shape[0] - 1) #rm unknown\n",
    "loc_cnt10 = loc_cnt.head(10)\n",
    "loc_cnt10"
   ]
  },
  {
   "cell_type": "code",
   "execution_count": 71,
   "metadata": {},
   "outputs": [
    {
     "data": {
      "text/plain": [
       "WORCESTER           694\n",
       "FITCHBURG           196\n",
       "LEOMINSTER          141\n",
       "AUBURN              111\n",
       "OXFORD              106\n",
       "MILFORD              95\n",
       "CHARLTON             83\n",
       "SHREWSBURY           82\n",
       "MARLBOROUGH          76\n",
       "UXBRIDGE             74\n",
       "CLINTON              74\n",
       "WESTBOROUGH          74\n",
       "GARDNER              73\n",
       "HUDSON               67\n",
       "WEBSTER              61\n",
       "HOLDEN               58\n",
       "MEDWAY               57\n",
       "HOPKINTON            57\n",
       "MILLBURY             53\n",
       "STURBRIDGE           52\n",
       "WINCHENDON           50\n",
       "ACTON                50\n",
       "SOUTHBRIDGE          49\n",
       "BELLINGHAM           47\n",
       "NORTHBOROUGH         46\n",
       "GRAFTON              46\n",
       "SUTTON               44\n",
       "SPENCER              43\n",
       "NORFOLK              37\n",
       "HARVARD              37\n",
       "DUDLEY               34\n",
       "ASHBY                33\n",
       "AYER                 33\n",
       "HOLLISTON            32\n",
       "RUTLAND              29\n",
       "WEST BOYLSTON        29\n",
       "TEMPLETON            27\n",
       "MAYNARD              27\n",
       "DOUGLAS              27\n",
       "HOPEDALE             27\n",
       "GROTON               27\n",
       "BARRE                26\n",
       "LUNENBURG            26\n",
       "BOYLSTON             24\n",
       "TOWNSEND             24\n",
       "MENDON               23\n",
       "WESTFORD             23\n",
       "LANCASTER            22\n",
       "NORTH BROOKFIELD     21\n",
       "WESTMINSTER          20\n",
       "STOW                 20\n",
       "LITTLETON            19\n",
       "MILLIS               18\n",
       "SOUTHBOROUGH         18\n",
       "ATHOL                18\n",
       "SHIRLEY              18\n",
       "HUBBARDSTON          17\n",
       "PRINCETON            16\n",
       "NORTHBRIDGE          15\n",
       "UNKNOWN              14\n",
       "LEICESTER            14\n",
       "BLACKSTONE           13\n",
       "ASHBURNHAM           13\n",
       "MEDFIELD             13\n",
       "HARDWICK             12\n",
       "BERLIN               12\n",
       "PEPPERELL            12\n",
       "PAXTON               11\n",
       "BOXBOROUGH           11\n",
       "BOLTON               10\n",
       "TYNGSBORO             9\n",
       "FRANKLIN              7\n",
       "CHARLTON CITY         7\n",
       "MANCHAUG              7\n",
       "WEST BROOKFIELD       7\n",
       "UPTON                 5\n",
       "BALDWINVILLE          5\n",
       "CHERRY VALLEY         5\n",
       "BROOKFIELD            5\n",
       "STERLING              5\n",
       "TYNGSBOROUGH          5\n",
       "NORTH OXFORD          5\n",
       "WARREN                3\n",
       "MILLVILLE             3\n",
       "EAST BROOKFIELD       3\n",
       "NORTH GRAFTON         3\n",
       "WEST MEDWAY           2\n",
       "SOUTH GRAFTON         2\n",
       "DEVENS                2\n",
       "NBROOKFIELD           1\n",
       "NORTHBORO             1\n",
       "PHILLIPSTON           1\n",
       "WHITINSVILLE          1\n",
       "WINCHENCON            1\n",
       "Name: location, dtype: int64"
      ]
     },
     "execution_count": 71,
     "metadata": {},
     "output_type": "execute_result"
    }
   ],
   "source": [
    "loc_cnt"
   ]
  },
  {
   "cell_type": "code",
   "execution_count": null,
   "metadata": {},
   "outputs": [],
   "source": []
  }
 ],
 "metadata": {
  "kernelspec": {
   "display_name": "Python 3",
   "language": "python",
   "name": "python3"
  },
  "language_info": {
   "codemirror_mode": {
    "name": "ipython",
    "version": 3
   },
   "file_extension": ".py",
   "mimetype": "text/x-python",
   "name": "python",
   "nbconvert_exporter": "python",
   "pygments_lexer": "ipython3",
   "version": "3.7.4"
  }
 },
 "nbformat": 4,
 "nbformat_minor": 2
}
